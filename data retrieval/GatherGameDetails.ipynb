{
 "metadata": {
  "name": "",
  "signature": "sha256:7ced44a50fdd54bf8b7c925a198919d499259de9d28520082f41fc785dcc1a4e"
 },
 "nbformat": 3,
 "nbformat_minor": 0,
 "worksheets": [
  {
   "cells": [
    {
     "cell_type": "code",
     "collapsed": false,
     "input": [
      "import csv, json, urllib, time\n",
      "from collections import Counter"
     ],
     "language": "python",
     "metadata": {},
     "outputs": [],
     "prompt_number": 25
    },
    {
     "cell_type": "code",
     "collapsed": false,
     "input": [
      "file_path = \"/Users/seanbennett/Dropbox/171FinalProject/ids.csv\"\n",
      "with open(file_path, 'rb') as f:\n",
      "    reader = csv.reader(f)\n",
      "    ids = list(reader)[0][-1]"
     ],
     "language": "python",
     "metadata": {},
     "outputs": [],
     "prompt_number": 32
    },
    {
     "cell_type": "code",
     "collapsed": false,
     "input": [
      "def write_data(game_id):\n",
      "    # use the Riot API to pull data for the game corresponding to the match id\n",
      "    url = \"https://na.api.pvp.net/api/lol/na/v2.2/match/\"+str(game_id)+\"?includeTimeline=false&api_key=92f11b38-a258-45b8-b5c9-7d4e113ad252\"\n",
      "    response = urllib.urlopen(url);\n",
      "    data = json.loads(response.read())\n",
      "    \n",
      "    #extract the necessary fields from the game details and organize them into a new dict\n",
      "    game_details = {'matchId': data['matchId']}\n",
      "    game_details['duration'] = data['matchDuration']\n",
      "    game_details['bans'] = []\n",
      "    for team in data['teams']:\n",
      "        try:\n",
      "            game_details['bans'] += [x['championId'] for x in team['bans']]\n",
      "        except:\n",
      "            pass\n",
      "    participant_ids = [x['championId'] for x in data['participants']]\n",
      "    participants = []\n",
      "    for x in data['participants']:\n",
      "        participant = {'championId': x['championId'],\n",
      "                       'participantId': x['participantId'],\n",
      "                       'unique': Counter(participant_ids)[x['championId']] == 1,\n",
      "                       'items': [x['stats']['item0'],x['stats']['item1'],x['stats']['item2'],x['stats']['item3'],x['stats']['item4'],x['stats']['item5'],x['stats']['item6'],],\n",
      "                       'teamId': x['teamId'],\n",
      "                       'winner': x['stats']['winner'],\n",
      "                       'kills': x['stats']['kills'],\n",
      "                       'assists': x['stats']['assists'],\n",
      "                       'deaths': x['stats']['deaths'],\n",
      "                       'creep_score': x['stats']['neutralMinionsKilled'] + x['stats']['minionsKilled'],\n",
      "                       'summoner_spells': [x['spell1Id'], x['spell2Id']]}   \n",
      "        participants.append(participant)\n",
      "    game_details['participants'] = participants\n",
      "    teams = []\n",
      "    for x in data['teams']:\n",
      "        team = {'teamId': x['teamId'],\n",
      "                'firstBlood': x['firstBlood'],\n",
      "                'dragonKills': x['dragonKills'],\n",
      "                'baronKills': x['baronKills'],\n",
      "                'firstDragon': x['firstDragon'],\n",
      "                'firstBaron': x['firstBaron'],\n",
      "                'towerKills': x['towerKills'],\n",
      "                'inhibitorKills': x['inhibitorKills'],\n",
      "                'firstTower': x['firstTower'],\n",
      "                'firstInhibitor': x['firstInhibitor'],\n",
      "                'winner': x['winner']}\n",
      "        teams.append(team)\n",
      "    game_details['teams'] = teams\n",
      "    \n",
      "    # write the dict to a json\n",
      "    write_path = \"/Users/seanbennett/Dropbox/171FinalProject/game_jsons/\"+str(game_id)+\".json\"\n",
      "    with open(write_path,\"w\") as outfile:\n",
      "        json.dump(game_details,outfile)"
     ],
     "language": "python",
     "metadata": {},
     "outputs": [],
     "prompt_number": 34
    },
    {
     "cell_type": "code",
     "collapsed": false,
     "input": [
      "for i,game in enumerate(ids[14172:]):\n",
      "    write_data(game)\n",
      "    time.sleep(1.21)"
     ],
     "language": "python",
     "metadata": {},
     "outputs": [
      {
       "ename": "KeyboardInterrupt",
       "evalue": "",
       "output_type": "pyerr",
       "traceback": [
        "\u001b[0;31m---------------------------------------------------------------------------\u001b[0m\n\u001b[0;31mKeyboardInterrupt\u001b[0m                         Traceback (most recent call last)",
        "\u001b[0;32m<ipython-input-55-44fa460dddae>\u001b[0m in \u001b[0;36m<module>\u001b[0;34m()\u001b[0m\n\u001b[1;32m      1\u001b[0m \u001b[0;32mfor\u001b[0m \u001b[0mi\u001b[0m\u001b[0;34m,\u001b[0m\u001b[0mgame\u001b[0m \u001b[0;32min\u001b[0m \u001b[0menumerate\u001b[0m\u001b[0;34m(\u001b[0m\u001b[0mids\u001b[0m\u001b[0;34m[\u001b[0m\u001b[0;36m14172\u001b[0m\u001b[0;34m:\u001b[0m\u001b[0;34m]\u001b[0m\u001b[0;34m)\u001b[0m\u001b[0;34m:\u001b[0m\u001b[0;34m\u001b[0m\u001b[0m\n\u001b[1;32m      2\u001b[0m     \u001b[0mwrite_data\u001b[0m\u001b[0;34m(\u001b[0m\u001b[0mgame\u001b[0m\u001b[0;34m)\u001b[0m\u001b[0;34m\u001b[0m\u001b[0m\n\u001b[0;32m----> 3\u001b[0;31m     \u001b[0mtime\u001b[0m\u001b[0;34m.\u001b[0m\u001b[0msleep\u001b[0m\u001b[0;34m(\u001b[0m\u001b[0;36m1.21\u001b[0m\u001b[0;34m)\u001b[0m\u001b[0;34m\u001b[0m\u001b[0m\n\u001b[0m",
        "\u001b[0;31mKeyboardInterrupt\u001b[0m: "
       ]
      }
     ],
     "prompt_number": 55
    },
    {
     "cell_type": "code",
     "collapsed": false,
     "input": [
      "ids.index('1782078567')"
     ],
     "language": "python",
     "metadata": {},
     "outputs": [
      {
       "metadata": {},
       "output_type": "pyout",
       "prompt_number": 43,
       "text": [
        "11978"
       ]
      }
     ],
     "prompt_number": 43
    },
    {
     "cell_type": "code",
     "collapsed": false,
     "input": [
      "ids[14171]"
     ],
     "language": "python",
     "metadata": {},
     "outputs": [
      {
       "metadata": {},
       "output_type": "pyout",
       "prompt_number": 54,
       "text": [
        "'status'"
       ]
      }
     ],
     "prompt_number": 54
    },
    {
     "cell_type": "code",
     "collapsed": false,
     "input": [
      "i"
     ],
     "language": "python",
     "metadata": {},
     "outputs": [
      {
       "metadata": {},
       "output_type": "pyout",
       "prompt_number": 56,
       "text": [
        "13065"
       ]
      }
     ],
     "prompt_number": 56
    },
    {
     "cell_type": "code",
     "collapsed": false,
     "input": [],
     "language": "python",
     "metadata": {},
     "outputs": []
    }
   ],
   "metadata": {}
  }
 ]
}